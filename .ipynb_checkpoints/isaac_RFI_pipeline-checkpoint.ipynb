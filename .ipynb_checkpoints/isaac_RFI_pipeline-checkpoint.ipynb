{
 "cells": [
  {
   "cell_type": "code",
   "execution_count": 1,
   "metadata": {},
   "outputs": [
    {
     "name": "stderr",
     "output_type": "stream",
     "text": [
      "/home/richarms/.local/lib/python2.7/site-packages/h5py-2.8.0-py2.7-linux-x86_64.egg/h5py/__init__.py:36: RuntimeWarning: numpy.dtype size changed, may indicate binary incompatibility. Expected 96, got 88\n",
      "  from ._conv import register_converters as _register_converters\n",
      "/home/richarms/.local/lib/python2.7/site-packages/h5py-2.8.0-py2.7-linux-x86_64.egg/h5py/__init__.py:45: RuntimeWarning: numpy.dtype size changed, may indicate binary incompatibility. Expected 96, got 88\n",
      "  from . import h5a, h5d, h5ds, h5f, h5fd, h5g, h5r, h5s, h5t, h5p, h5z\n",
      "/home/richarms/.local/lib/python2.7/site-packages/h5py-2.8.0-py2.7-linux-x86_64.egg/h5py/_hl/group.py:22: RuntimeWarning: numpy.dtype size changed, may indicate binary incompatibility. Expected 96, got 88\n",
      "  from .. import h5g, h5i, h5o, h5r, h5t, h5l, h5p\n"
     ]
    },
    {
     "ename": "ImportError",
     "evalue": "No module named xarray",
     "output_type": "error",
     "traceback": [
      "\u001b[0;31m---------------------------------------------------------------------------\u001b[0m",
      "\u001b[0;31mImportError\u001b[0m                               Traceback (most recent call last)",
      "\u001b[0;32m<ipython-input-1-e836f7f13867>\u001b[0m in \u001b[0;36m<module>\u001b[0;34m()\u001b[0m\n\u001b[1;32m      3\u001b[0m \u001b[0;32mimport\u001b[0m \u001b[0mnumpy\u001b[0m \u001b[0;32mas\u001b[0m \u001b[0mnp\u001b[0m\u001b[0;34m\u001b[0m\u001b[0m\n\u001b[1;32m      4\u001b[0m \u001b[0;32mimport\u001b[0m \u001b[0mmatplotlib\u001b[0m \u001b[0;32mas\u001b[0m \u001b[0mplt\u001b[0m\u001b[0;34m\u001b[0m\u001b[0m\n\u001b[0;32m----> 5\u001b[0;31m \u001b[0;32mimport\u001b[0m \u001b[0mxarray\u001b[0m \u001b[0;32mas\u001b[0m \u001b[0mxr\u001b[0m\u001b[0;34m\u001b[0m\u001b[0m\n\u001b[0m\u001b[1;32m      6\u001b[0m \u001b[0;32mimport\u001b[0m \u001b[0mpandas\u001b[0m \u001b[0;32mas\u001b[0m \u001b[0mpd\u001b[0m\u001b[0;34m\u001b[0m\u001b[0m\n\u001b[1;32m      7\u001b[0m \u001b[0;32mimport\u001b[0m \u001b[0mpylab\u001b[0m \u001b[0;32mas\u001b[0m \u001b[0mplt\u001b[0m\u001b[0;34m\u001b[0m\u001b[0m\n",
      "\u001b[0;31mImportError\u001b[0m: No module named xarray"
     ]
    }
   ],
   "source": [
    "import katdal\n",
    "import h5py\n",
    "import numpy as np\n",
    "import matplotlib as plt\n",
    "import xarray as xr\n",
    "import pandas as pd\n",
    "import pylab as plt\n",
    "import time as tme"
   ]
  },
  {
   "cell_type": "code",
   "execution_count": 4,
   "metadata": {},
   "outputs": [],
   "source": [
    "# Reading in the visibility file and the flag file\n",
    "pathlitevis = '/scratch2/isaac/1532311489_sdp_l0.rdb'\n",
    "pathflag = '/scratch2/isaac/1532311489_sdp_l0_flags.h5'\n",
    "pathfullvis = '/scratch2/isaac/1532311489_sdp_l0.full.rdb'"
   ]
  },
  {
   "cell_type": "markdown",
   "metadata": {},
   "source": [
    "\n",
    "\n",
    "\n",
    "#### Getting the data from the achirve\n",
    "1. Get full and lite rdb files from the archive.\n",
    "\n",
    "2. Run AO-flagger offline using the lite rdf file.\n",
    "\n",
    "\n",
    "#### Read in the data\n",
    "3. Read in both lite and full rdb files\n",
    "\n",
    "4. Use katdal to select the data to use on both files <br >\n",
    "    e.g rdb.select(scan='track', corr_prods = 'scan')\n",
    "\n",
    "5. Apply the flag table(the one computed on step 2) on the lite rdb file\n",
    "\n",
    "6. Get the flags(ingest+cal) from the lite rdb file.\n",
    "\n",
    "7. Check for for fault anntenas and remove them from the dataset.\n",
    "\n",
    "#### Binning data\n",
    "\n",
    "8. Get the azimuth and elevation from the full rdb file\n",
    "\n",
    "9. Bin time into 1 hour bins == This will give time index <br >\n",
    "\n",
    "    For each timestamp:<br >\n",
    "        Convert unix timestamp to SAST\n",
    "        Convert the SAST to hour of the day\n",
    "        Save the hour of the day into a list called time_index\n",
    "        \n",
    "\n",
    "10. Bin the azimuth into 15 degrees bins == This will give azimuth index <br >\n",
    "    \n",
    "    For each azimuth: <br >\n",
    "        Check the bin that it falls into\n",
    "        Get the bin index and save it into list called azimuth_index\n",
    "    \n",
    "\n",
    "12. Bin the elevation into 10 degrees bins == This will give elevation index <br >\n",
    "\n",
    "     For each elevation: <br >\n",
    "        Check the bin that it falls into\n",
    "        Get the bin index and save it into list called elevation_index\n",
    "\n",
    "15. Match the baseline present in a file with the baseline index == This will give baseline index <br >\n",
    "\n",
    "    For each baseline: <br>\n",
    "        check which index does the baseline correspond to <br >\n",
    "        save the index into a list called baseline index\n",
    "\n",
    "#### Creating the master array\n",
    "The array is five-dimensional RFI probability array with dimensions of hour of the day, frequency channels, baseline, elevation and azimuthal angle. This is reflected in the shape of the array which is (24, 4096, 2016, 10, 24).\n",
    "\n",
    "#### Updating the master array\n",
    "\n",
    "Initialize master array of shape(24, 4096, 2016, 10, 24) to zero. <br >\n",
    "\n",
    "Initialize the counter array of shape(24, 4096, 2016, 10, 24) to zero. <br >\n",
    "\n",
    "For each timestamp:\n",
    "    #Count the number of rfi points that falls into each hour of the day.\n",
    "    \n",
    "    master[time_index[timestamp],:,baseline_index,elevation_index,azimuth_index] += flag table\n",
    "         \n",
    "    #Count all possible number of points that correspond to each hour of the day.\n",
    "    \n",
    "    counter[time_index[timestamp],:,baseline_index,elevation_index,azimuth_index] +=1\n",
    "    \n",
    "    \n",
    "#### Computing the probabilty\n",
    "\n",
    "We will use the frequentist approach to compute our probabilties, which is defined as the probability of some event in terms of the relative frequency with which the event tends to occur. Mathematically,\n",
    "\n",
    "\\begin{eqnarray}\n",
    "p(RFI|time,freqchn,baseline,elevation, azimuth) &= \\frac{Number \\: of \\: RFI \\: events}{Total \\: number \\: of \\: possible \\: outcome}\\\\\n",
    "&= \\frac{master \\: array}{counter \\: array}\n",
    "\\end{eqnarray}\n",
    "\n",
    "\n",
    "The above equation will give the probabilty of at each cell in a 5-D array.\n",
    "\n",
    "\n",
    "#### Xarray \n",
    "\n",
    "We will use Xarray to store the master and counter arrays.Xarrays provides robust support for converting back and forth between the tabular data-structures of pandas and its own multi-dimensional data-structures.\n",
    "    \n",
    "\n",
    "         \n",
    "\n"
   ]
  },
  {
   "cell_type": "markdown",
   "metadata": {},
   "source": [
    "## Data Pre-processing"
   ]
  },
  {
   "cell_type": "code",
   "execution_count": 15,
   "metadata": {},
   "outputs": [],
   "source": [
    "def readfile(pathlitevis,pathfullvis,pathflag):\n",
    "    '''\n",
    "    Reading in the both the lite and full visibility file, and also the flag file.\n",
    "    \n",
    "    Arg : path2lite, path2full and path to the flag file\n",
    "    '''\n",
    "    vislite = katdal.open(pathlitevis)\n",
    "    visfull = katdal.open(pathfullvis)\n",
    "    flagfile =h5py.File(pathflag)\n",
    "    \n",
    "    return vislite,visfull,flagfile"
   ]
  },
  {
   "cell_type": "code",
   "execution_count": 16,
   "metadata": {},
   "outputs": [],
   "source": [
    "litevis,fullvis,flagfile = readfile(pathlitevis,pathfullvis,pathflag)"
   ]
  },
  {
   "cell_type": "code",
   "execution_count": null,
   "metadata": {},
   "outputs": [],
   "source": [
    "def select_and_apply(litevis,fullvis,flagfile, pol_to_use, corrprod,scan):\n",
    "    from dask import array as da\n",
    "    '''\n",
    "    This function is going to select correlation products and apply flag table\n",
    "    to the lite visibility file.\n",
    "        \n",
    "    Arg: lite and full visibility, flagfile, pol to use, corrproducts and scans\n",
    "    \n",
    "    Output : The flag table with ingest rfi flags and cal rfi flags\n",
    "    '''\n",
    "    \n",
    "    litevis.select(corrprods = corrprod, pol = pol_to_use, scans = scan)\n",
    "    fullvis.select(corrprods = corrprod, pol = pol_to_use, scans = scan)\n",
    "    \n",
    "    \n",
    "    flags = da.from_array(flagfile['flags'], chunks=(1, 342, litevis.shape[2]))\n",
    "    litevis.source.data.flags = flags\n",
    "\n",
    "    flags = litevis.flags[:, :, :]\n",
    "    return flags"
   ]
  },
  {
   "cell_type": "code",
   "execution_count": 18,
   "metadata": {},
   "outputs": [],
   "source": [
    "flags = select_and_apply(litevis,fullvis,flagfile,pol_to_use = 'HH',corrprod='cross',scan='track')"
   ]
  },
  {
   "cell_type": "code",
   "execution_count": 27,
   "metadata": {},
   "outputs": [],
   "source": [
    "def remove_bad_ants(litevis,flags):\n",
    "    from collections import Counter\n",
    "    '''\n",
    "    This function is going to get the names of all the good antennas\n",
    "    \n",
    "    \n",
    "    Arg: litevis file and flag file :shape [time, frequency, baseline]\n",
    "    \n",
    "    Output : List of all good anntenas\n",
    "    '''\n",
    "    bad_bl = []\n",
    "    for i in range(litevis.shape[2]):\n",
    "        if np.sum(flags[:,:,i])/(flags.shape[0]*flags.shape[1])>0.95:\n",
    "            bad_bl.append(litevis.corr_products[i])\n",
    "            \n",
    "    merged_bl = np.ravel(bad_bl)\n",
    "    count = dict(Counter(merged_bl))\n",
    "    \n",
    "    bad_ants = []\n",
    "    for item,coun in count.items():\n",
    "        if coun >= (len(litevis.ants) - 1):\n",
    "            bad_ants.append(item[0:-1])\n",
    "    ant_name = []\n",
    "    for ant in litevis.ants:\n",
    "        ant_name.append(ant.name)\n",
    "    for ants in bad_ants:\n",
    "        ant_name.remove(ants)\n",
    "            \n",
    "            \n",
    "    return ant_name"
   ]
  },
  {
   "cell_type": "code",
   "execution_count": 28,
   "metadata": {},
   "outputs": [],
   "source": [
    "# List of clean attenas\n",
    "clean_ants = remove_bad_ants(litevis,flags)"
   ]
  },
  {
   "cell_type": "code",
   "execution_count": 29,
   "metadata": {},
   "outputs": [],
   "source": [
    "def select_and_apply_with_good_ants(litevis,fullvis,flagfile, pol_to_use, corrprod,scan,clean_ants):\n",
    "    from dask import array as da\n",
    "    '''\n",
    "    This function is going to select correlation products and apply flag table\n",
    "    to the lite visibility file.\n",
    "        \n",
    "    Arg: lite and full visibility, flagfile, pol to use, corrproducts and scan and good antennas.\n",
    "    \n",
    "    Output : The flag table with ingest rfi flags and cal rfi flags\n",
    "    '''\n",
    "    \n",
    "    litevis.select(corrprods = corrprod, pol = pol_to_use, scans = scan,ants = clean_ants)\n",
    "    fullvis.select(corrprods = corrprod, pol = pol_to_use, scans = scan,ants = clean_ants)\n",
    "    \n",
    "    \n",
    "    flags = da.from_array(flagfile['flags'], chunks=(1, 342, litevis.shape[2]))\n",
    "    litevis.source.data.flags = flags\n",
    "\n",
    "    flag = litevis.flags[:, :, :]\n",
    "    return flag"
   ]
  },
  {
   "cell_type": "code",
   "execution_count": 31,
   "metadata": {},
   "outputs": [],
   "source": [
    "good_flags = select_and_apply_with_good_ants(litevis,fullvis,flagfile,pol_to_use = 'HH',corrprod='cross',scan='track',\n",
    "                                            clean_ants = clean_ants)"
   ]
  },
  {
   "cell_type": "markdown",
   "metadata": {},
   "source": [
    "## Binning the data into a desirable format"
   ]
  },
  {
   "cell_type": "code",
   "execution_count": 32,
   "metadata": {},
   "outputs": [],
   "source": [
    "def get_az_and_el(fullvis):\n",
    "    '''\n",
    "    Getting the full the elevation and azimuth of the file.\n",
    "    \n",
    "    Arg: fullvis file\n",
    "    \n",
    "    Return: List of avaraged elevation and azimuth of all antennas per time stamp\n",
    "    '''\n",
    "    \n",
    "    # Getting the azmuth and elevation\n",
    "    az = fullvis.az\n",
    "    el = fullvis.el\n",
    "    \n",
    "    azmean = (np.array([np.mean(az[:][i]) for i in range(az.shape[0])])).astype(int)\n",
    "    elmean = (np.array([np.mean(el[:][i]) for i in range(el.shape[0])])).astype(int)\n",
    "    \n",
    "    return elmean,azmean"
   ]
  },
  {
   "cell_type": "code",
   "execution_count": 33,
   "metadata": {},
   "outputs": [],
   "source": [
    "el,az = get_az_and_el(fullvis)"
   ]
  },
  {
   "cell_type": "code",
   "execution_count": 37,
   "metadata": {},
   "outputs": [],
   "source": [
    "def get_time_idx(litevis):\n",
    "    import datetime\n",
    "    '''\n",
    "    This function is going to convert unix time to hour of a day\n",
    "    \n",
    "    Input : h5 obeject\n",
    "    \n",
    "    Output : list with time dumps converted to hour of a day\n",
    "    '''\n",
    "    unix  = litevis.timestamps\n",
    "\n",
    "    local_time = []\n",
    "    for i in range(len(unix)):\n",
    "        local_time.append(datetime.datetime.fromtimestamp((unix[i])).strftime('%H:%M:%S'))\n",
    "\n",
    "    # Converting time to hour of a day\n",
    "    hour = []\n",
    "    for i in range(len(local_time)):\n",
    "        hour.append(int(round(int(local_time[i][:2]) + int(local_time[i][3:5])/60 + float(local_time[i][-2:])/3600)))\n",
    "    return np.array(hour)[None,:]"
   ]
  },
  {
   "cell_type": "code",
   "execution_count": 39,
   "metadata": {},
   "outputs": [],
   "source": [
    "time_idx = get_time_idx(litevis)"
   ]
  },
  {
   "cell_type": "code",
   "execution_count": 42,
   "metadata": {},
   "outputs": [],
   "source": [
    "def get_az_idx(az,bins):\n",
    "    '''\n",
    "    This function is going get the index of the azimuth \n",
    "    \n",
    "    Input : List of Azimuthal angle and azimuthal bins\n",
    "    \n",
    "    Output : Azimuthal index\n",
    "    '''\n",
    "    az_idx = []\n",
    "    for az in az:\n",
    "        for j in range(len(bins)-1):\n",
    "            if bins[j] <= az < bins[j+1]:\n",
    "                az_idx.append(j)\n",
    "    \n",
    "    return np.array(az_idx)[None,:]"
   ]
  },
  {
   "cell_type": "code",
   "execution_count": 43,
   "metadata": {},
   "outputs": [],
   "source": [
    "az_idx = get_az_idx(az,np.arange(0,370,15))"
   ]
  },
  {
   "cell_type": "code",
   "execution_count": 44,
   "metadata": {},
   "outputs": [],
   "source": [
    "def get_el_idx(el,bins):\n",
    "    '''\n",
    "    This function is going get the index of the elevation\n",
    "    \n",
    "    Input : List of elevation angle and bins\n",
    "    \n",
    "    Output : Elevation index\n",
    "    \n",
    "    '''\n",
    "    el_idx = []\n",
    "    for el in el:\n",
    "        for j in range(len(bins)-1):\n",
    "            if bins[j] <= el < bins[j+1]:\n",
    "                el_idx.append(j)\n",
    "    \n",
    "    return np.array(el_idx)[None,:] "
   ]
  },
  {
   "cell_type": "code",
   "execution_count": 45,
   "metadata": {},
   "outputs": [],
   "source": [
    "el_idx = get_el_idx(el,np.arange(0,100,10))"
   ]
  },
  {
   "cell_type": "code",
   "execution_count": 46,
   "metadata": {},
   "outputs": [],
   "source": [
    "def get_corrprods(litevis):\n",
    "    '''\n",
    "    This function is getting the corr products\n",
    "    \n",
    "    Input : Visibility file\n",
    "    \n",
    "    Output : Correlation products\n",
    "    '''\n",
    "    bl = litevis.corr_products\n",
    "    bl_idx = []\n",
    "    for i in range(len(bl)):\n",
    "        bl_idx.append((bl[i][0][0:-1]+bl[i][1][0:-1]))\n",
    "            \n",
    "    return np.array(bl_idx)"
   ]
  },
  {
   "cell_type": "code",
   "execution_count": 48,
   "metadata": {},
   "outputs": [],
   "source": [
    "corr_prods = get_corrprods(litevis)"
   ]
  },
  {
   "cell_type": "code",
   "execution_count": 140,
   "metadata": {},
   "outputs": [],
   "source": [
    "def get_bl_idx(corr_prods):\n",
    "    '''\n",
    "    This function is getting the index of the correlation products\n",
    "    \n",
    "    Input  : Correlation products\n",
    "    \n",
    "    Output : Baseline index\n",
    "    '''\n",
    "    nant = 64\n",
    "    A1, A2 = np.empty(nant*(nant-1)/2, dtype=np.int32), np.empty(nant*(nant-1)/2, dtype=np.int32)\n",
    "    k = 0\n",
    "    for i in range(nant):\n",
    "        for j in range(i+1,nant):\n",
    "            A1[k] = i\n",
    "            A2[k] = j\n",
    "            k += 1\n",
    "\n",
    "    corr_products = np.array(['m{:03d}m{:03d}'.format(A1[i], A2[i]) for i in range(len(A1))])\n",
    "\n",
    "\n",
    "    df = pd.DataFrame(data=np.arange(2016), index=corr_products).T\n",
    "    \n",
    "    bl_idx = df[corr_prods].values\n",
    "    return (bl_idx[0])[:,None],corr_products"
   ]
  },
  {
   "cell_type": "code",
   "execution_count": 141,
   "metadata": {},
   "outputs": [],
   "source": [
    "bl_idx,corr_products = get_bl_idx(corr_prods)"
   ]
  },
  {
   "cell_type": "code",
   "execution_count": 51,
   "metadata": {},
   "outputs": [],
   "source": [
    "#Initializing the master array and the weghting\n",
    "master = np.zeros((24,4096,2016,10,24),dtype=np.uint16)\n",
    "counter = np.zeros((24,4096,2016,10,24),dtype=np.uint16)"
   ]
  },
  {
   "cell_type": "code",
   "execution_count": 53,
   "metadata": {},
   "outputs": [],
   "source": [
    "# Updating the array\n",
    "master[time_idx,:,bl_idx,el_idx,az_idx] += np.transpose(good_flags, axes=[2,0,1])\n",
    "counter[time_idx,:,bl_idx,el_idx,az_idx] += 1"
   ]
  },
  {
   "cell_type": "markdown",
   "metadata": {},
   "source": [
    "## Xarray \n",
    "\n",
    "We will use Xarray to store the master and counter arrays. Xarrays provides robust support for converting back and forth between the tabular data-structures of pandas and its own multi-dimensional data-structures."
   ]
  },
  {
   "cell_type": "code",
   "execution_count": null,
   "metadata": {},
   "outputs": [],
   "source": [
    "df = pd.DataFrame(data=np.arange(2016), index=corr_products).T"
   ]
  },
  {
   "cell_type": "code",
   "execution_count": 212,
   "metadata": {},
   "outputs": [],
   "source": [
    "# Creating Xarray for ease access\n",
    "ds = xr.Dataset({'master': (('time','frequency_chn','baseline','elevation','azimuth') , master),\n",
    "                 'counter': (('time','frequency_chn','baseline','elevation','azimuth'), co)},\n",
    "                {'time': np.arange(1,25),'frequency_chn':np.arange(0,4096),'baseline':df.values[0],'elevation':np.arange(0,100,10),\n",
    "                'azimuth':np.arange(0,360,15)})"
   ]
  },
  {
   "cell_type": "code",
   "execution_count": 214,
   "metadata": {},
   "outputs": [],
   "source": [
    "# Computing the probability\n",
    "prb = ds.master/ds.counter"
   ]
  },
  {
   "cell_type": "markdown",
   "metadata": {},
   "source": [
    "## Data visualization\n"
   ]
  },
  {
   "cell_type": "code",
   "execution_count": 197,
   "metadata": {},
   "outputs": [
    {
     "data": {
      "text/plain": [
       "[<matplotlib.lines.Line2D at 0x7f373395c790>]"
      ]
     },
     "execution_count": 197,
     "metadata": {},
     "output_type": "execute_result"
    },
    {
     "data": {
      "image/png": "[encoded data removed]",
      "text/plain": [
       "<Figure size 432x288 with 1 Axes>"
      ]
     },
     "metadata": {},
     "output_type": "display_data"
    }
   ],
   "source": [
    "prb.sum(dim=['time','elevation','baseline','azimuth']).plot()"
   ]
  },
  {
   "cell_type": "code",
   "execution_count": 3,
   "metadata": {},
   "outputs": [],
   "source": [
    "#prb.sum(dim=['frequency_chn','elevation','baseline','azimuth']).plot()"
   ]
  },
  {
   "cell_type": "code",
   "execution_count": 235,
   "metadata": {},
   "outputs": [],
   "source": [
    "#prb.sum(dim=['frequency_chn','elevation','time','azimuth']).plot()"
   ]
  },
  {
   "cell_type": "code",
   "execution_count": 2,
   "metadata": {},
   "outputs": [],
   "source": [
    "#prb.sum(dim=['frequency_chn','elevation','time','baseline']).plot()"
   ]
  },
  {
   "cell_type": "code",
   "execution_count": 1,
   "metadata": {},
   "outputs": [],
   "source": [
    "#prb.sum(dim=['frequency_chn','azimuth','time','baseline']).plot()"
   ]
  },
  {
   "cell_type": "code",
   "execution_count": 219,
   "metadata": {},
   "outputs": [
    {
     "data": {
      "text/plain": [
       "<matplotlib.collections.QuadMesh at 0x7f37334f4050>"
      ]
     },
     "execution_count": 219,
     "metadata": {},
     "output_type": "execute_result"
    },
    {
     "data": {
      "image/png": "[encoded data removed]",
      "text/plain": [
       "<Figure size 432x288 with 2 Axes>"
      ]
     },
     "metadata": {},
     "output_type": "display_data"
    }
   ],
   "source": [
    "prb.sum(dim=['azimuth','elevation','baseline']).plot()"
   ]
  }
 ],
 "metadata": {
  "kernelspec": {
   "display_name": "Python 2",
   "language": "python",
   "name": "python2"
  },
  "language_info": {
   "codemirror_mode": {
    "name": "ipython",
    "version": 2
   },
   "file_extension": ".py",
   "mimetype": "text/x-python",
   "name": "python",
   "nbconvert_exporter": "python",
   "pygments_lexer": "ipython2",
   "version": "2.7.12"
  }
 },
 "nbformat": 4,
 "nbformat_minor": 2
}
